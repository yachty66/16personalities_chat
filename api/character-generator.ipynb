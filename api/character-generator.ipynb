{
 "cells": [
  {
   "cell_type": "code",
   "execution_count": 6,
   "metadata": {},
   "outputs": [
    {
     "name": "stdout",
     "output_type": "stream",
     "text": [
      "99 empty rows inserted successfully!\n"
     ]
    }
   ],
   "source": [
    "from supabase import create_client\n",
    "import os\n",
    "from dotenv import load_dotenv\n",
    "from datetime import datetime\n",
    "\n",
    "# Load environment variables\n",
    "load_dotenv()\n",
    "\n",
    "# Initialize Supabase client\n",
    "supabase_url = os.getenv(\"NEXT_PUBLIC_SUPABASE_URL\");\n",
    "supabase_key = os.getenv(\"NEXT_PUBLIC_SUPABASE_ANON_KEY\");\n",
    "supabase = create_client(supabase_url, supabase_key);\n",
    "\n",
    "# Prepare 99 empty rows\n",
    "empty_rows = [\n",
    "    {\n",
    "        'mbti_type': None,\n",
    "        'name': None,\n",
    "        'wiki_name': None,\n",
    "        'prompt': None,\n",
    "        'created_at': datetime.now().isoformat()\n",
    "    }\n",
    "    for _ in range(99)\n",
    "]\n",
    "\n",
    "# Insert the empty rows\n",
    "result = supabase.table('personalities').insert(empty_rows).execute()\n",
    "print(\"99 empty rows inserted successfully!\")"
   ]
  },
  {
   "cell_type": "code",
   "execution_count": null,
   "metadata": {},
   "outputs": [],
   "source": []
  }
 ],
 "metadata": {
  "kernelspec": {
   "display_name": "base",
   "language": "python",
   "name": "python3"
  },
  "language_info": {
   "codemirror_mode": {
    "name": "ipython",
    "version": 3
   },
   "file_extension": ".py",
   "mimetype": "text/x-python",
   "name": "python",
   "nbconvert_exporter": "python",
   "pygments_lexer": "ipython3",
   "version": "3.11.10"
  }
 },
 "nbformat": 4,
 "nbformat_minor": 2
}
